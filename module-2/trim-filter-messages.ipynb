{
 "cells": [
  {
   "cell_type": "markdown",
   "id": "fb0ebaf1",
   "metadata": {},
   "source": [
    "[![Open in Colab](https://colab.research.google.com/assets/colab-badge.svg)](https://colab.research.google.com/github/langchain-ai/langchain-academy/blob/main/module-2/trim-filter-messages.ipynb) [![Open in LangChain Academy](https://cdn.prod.website-files.com/65b8cd72835ceeacd4449a53/66e9eba12c7b7688aa3dbb5e_LCA-badge-green.svg)](https://academy.langchain.com/courses/take/intro-to-langgraph/lessons/58239435-lesson-4-trim-and-filter-messages)"
   ]
  },
  {
   "cell_type": "markdown",
   "id": "c52ea2f9-03ff-4647-b782-46867ebed04e",
   "metadata": {},
   "source": [
    "# Filtering and trimming messages\n",
    "\n",
    "## Review\n",
    "\n",
    "Now, we have a deeper understanding of a few things: \n",
    "\n",
    "* How to customize the graph state schema\n",
    "* How to define custom state reducers\n",
    "* How to use multiple graph state schemas\n",
    "\n",
    "## Goals\n",
    "\n",
    "Now, we can start using these concepts with models in LangGraph!\n",
    " \n",
    "In the next few sessions, we'll build towards a chatbot that has long-term memory.\n",
    "\n",
    "Because our chatbot will use messages, let's first talk a bit more about advanced ways to work with messages in graph state."
   ]
  },
  {
   "cell_type": "code",
   "execution_count": 1,
   "id": "d5197aba-5d46-421b-ae3b-4e3034edcfda",
   "metadata": {},
   "outputs": [],
   "source": [
    "%%capture --no-stderr\n",
    "%pip install --quiet -U langchain_core langgraph langchain_openai"
   ]
  },
  {
   "cell_type": "code",
   "execution_count": 2,
   "id": "768dc606-d5f2-468d-96ea-910b264e0f8a",
   "metadata": {},
   "outputs": [
    {
     "data": {
      "text/plain": [
       "True"
      ]
     },
     "execution_count": 2,
     "metadata": {},
     "output_type": "execute_result"
    }
   ],
   "source": [
    "# import os, getpass\n",
    "\n",
    "# def _set_env(var: str):\n",
    "#     if not os.environ.get(var):\n",
    "#         os.environ[var] = getpass.getpass(f\"{var}: \")\n",
    "\n",
    "# _set_env(\"OPENAI_API_KEY\")\n",
    "\n",
    "import os, getpass\n",
    "from dotenv import load_dotenv\n",
    "\n",
    "load_dotenv(dotenv_path=\"../../../.env\")"
   ]
  },
  {
   "cell_type": "markdown",
   "id": "8b64d8d3-e4ac-4961-bdc0-688825eb5864",
   "metadata": {},
   "source": [
    "We'll use [LangSmith](https://docs.smith.langchain.com/) for [tracing](https://docs.smith.langchain.com/concepts/tracing).\n",
    "\n",
    "We'll log to a project, `langchain-academy`. "
   ]
  },
  {
   "cell_type": "code",
   "execution_count": 3,
   "id": "dd020c79",
   "metadata": {},
   "outputs": [],
   "source": [
    "# _set_env(\"LANGCHAIN_API_KEY\")\n",
    "# os.environ[\"LANGCHAIN_TRACING_V2\"] = \"true\"\n",
    "# os.environ[\"LANGCHAIN_PROJECT\"] = \"langchain-academy\""
   ]
  },
  {
   "cell_type": "markdown",
   "id": "72f3fc90-58b6-4f7f-897e-dddf6ae532c7",
   "metadata": {},
   "source": [
    "## Messages as state\n",
    "\n",
    "First, let's define some messages."
   ]
  },
  {
   "cell_type": "code",
   "execution_count": 4,
   "id": "cf11a463-e27a-4a05-b41d-64882e38edca",
   "metadata": {},
   "outputs": [
    {
     "name": "stdout",
     "output_type": "stream",
     "text": [
      "==================================\u001b[1m Ai Message \u001b[0m==================================\n",
      "Name: Bot\n",
      "\n",
      "So you said you were researching ocean mammals?\n",
      "================================\u001b[1m Human Message \u001b[0m=================================\n",
      "Name: Lance\n",
      "\n",
      "Yes, I know about whales. But what others should I learn about?\n"
     ]
    }
   ],
   "source": [
    "from pprint import pprint\n",
    "from langchain_core.messages import AIMessage, HumanMessage\n",
    "messages = [AIMessage(f\"So you said you were researching ocean mammals?\", name=\"Bot\")]\n",
    "messages.append(HumanMessage(f\"Yes, I know about whales. But what others should I learn about?\", name=\"Lance\"))\n",
    "\n",
    "for m in messages:\n",
    "    m.pretty_print()"
   ]
  },
  {
   "cell_type": "markdown",
   "id": "b814adcb-6bf9-4b75-be11-e59f933fbd0c",
   "metadata": {},
   "source": [
    "Recall we can pass them to a chat model."
   ]
  },
  {
   "cell_type": "code",
   "execution_count": 5,
   "id": "4712e288-e622-48a2-ad3f-a52f65f3ab08",
   "metadata": {},
   "outputs": [
    {
     "data": {
      "text/plain": [
       "AIMessage(content='In addition to whales, there are several fascinating groups of ocean mammals you might want to explore:\\n\\n1. **Dolphins**: Known for their intelligence and playful behavior, dolphins are social creatures that live in pods. The common bottlenose dolphin is one of the most studied species.\\n\\n2. **Porpoises**: Similar to dolphins but generally smaller and with different teeth and dorsal fin shapes. The harbor porpoise is a common species in coastal areas.\\n\\n3. **Seals**: Including true seals (phocids) and eared seals (otariids), these mammals are known for their ability to adapt to life on land and in water. Common species include the harbor seal and the California sea lion.\\n\\n4. **Sea Lions**: A type of eared seal, sea lions are known for their external ear flaps and are often found in large colonies. They are highly social and can be seen basking on rocks or beaches.\\n\\n5. **Manatees**: Also known as sea cows, these gentle herbivores are found in warm coastal waters and rivers. They are known for their slow-moving nature and herbivorous diet.\\n\\n6. **Dugongs**: Similar to manatees but found in the Indo-Pacific region, dugongs are also herbivores and are known to graze on seagrass in shallow waters.\\n\\n7. **Narwhals**: Known as the \"unicorns of the sea,\" male narwhals have a long, spiral tusk that can reach lengths of up to 10 feet. They inhabit Arctic waters.\\n\\n8. **Beluga Whales**: Recognizable by their white color and vocalizations, belugas are highly social and often found in Arctic and sub-Arctic waters.\\n\\n9. **Orcas (Killer Whales)**: These highly intelligent and social apex predators belong to the dolphin family and are known for their complex social structures and hunting strategies.\\n\\n10. **Sea Otters**: These small marine mammals are known for their thick fur and use of tools to crack open shellfish. They play a crucial role in maintaining the health of kelp forest ecosystems.\\n\\nEach of these groups has unique adaptations and behaviors that make them interesting subjects of study. Let me know if you want more detailed information about any specific animal!', additional_kwargs={'refusal': None}, response_metadata={'token_usage': {'completion_tokens': 470, 'prompt_tokens': 39, 'total_tokens': 509, 'completion_tokens_details': {'accepted_prediction_tokens': 0, 'audio_tokens': 0, 'reasoning_tokens': 0, 'rejected_prediction_tokens': 0}, 'prompt_tokens_details': {'audio_tokens': 0, 'cached_tokens': 0}}, 'model_name': 'gpt-4o-mini-2024-07-18', 'system_fingerprint': 'fp_0aa8d3e20b', 'finish_reason': 'stop', 'logprobs': None}, id='run-45f55687-c30c-4ec1-9845-616881da2dc1-0', usage_metadata={'input_tokens': 39, 'output_tokens': 470, 'total_tokens': 509, 'input_token_details': {'audio': 0, 'cache_read': 0}, 'output_token_details': {'audio': 0, 'reasoning': 0}})"
      ]
     },
     "execution_count": 5,
     "metadata": {},
     "output_type": "execute_result"
    }
   ],
   "source": [
    "from langchain_openai import ChatOpenAI\n",
    "llm = ChatOpenAI(model=\"gpt-4o-mini\")\n",
    "llm.invoke(messages)"
   ]
  },
  {
   "cell_type": "markdown",
   "id": "fbd1dab8-0af8-4621-8264-ce65065f76ec",
   "metadata": {},
   "source": [
    "We can run our chat model in a simple graph with `MessagesState`."
   ]
  },
  {
   "cell_type": "code",
   "execution_count": 6,
   "id": "bbd8c39c-633b-4176-9cc6-8318e42bb5dd",
   "metadata": {},
   "outputs": [
    {
     "data": {
      "image/png": "[encoded data removed]",
      "text/plain": [
       "<IPython.core.display.Image object>"
      ]
     },
     "metadata": {},
     "output_type": "display_data"
    }
   ],
   "source": [
    "from IPython.display import Image, display\n",
    "from langgraph.graph import MessagesState\n",
    "from langgraph.graph import StateGraph, START, END\n",
    "\n",
    "# Node\n",
    "def chat_model_node(state: MessagesState):\n",
    "    return {\"messages\": llm.invoke(state[\"messages\"])}\n",
    "\n",
    "# Build graph\n",
    "builder = StateGraph(MessagesState)\n",
    "builder.add_node(\"chat_model\", chat_model_node)\n",
    "builder.add_edge(START, \"chat_model\")\n",
    "builder.add_edge(\"chat_model\", END)\n",
    "graph = builder.compile()\n",
    "\n",
    "# View\n",
    "display(Image(graph.get_graph().draw_mermaid_png()))"
   ]
  },
  {
   "cell_type": "code",
   "execution_count": 7,
   "id": "3a5a3e4a-ccfd-4d14-81f1-f0de6e11a1e4",
   "metadata": {},
   "outputs": [
    {
     "name": "stdout",
     "output_type": "stream",
     "text": [
      "==================================\u001b[1m Ai Message \u001b[0m==================================\n",
      "Name: Bot\n",
      "\n",
      "So you said you were researching ocean mammals?\n",
      "================================\u001b[1m Human Message \u001b[0m=================================\n",
      "Name: Lance\n",
      "\n",
      "Yes, I know about whales. But what others should I learn about?\n",
      "==================================\u001b[1m Ai Message \u001b[0m==================================\n",
      "\n",
      "In addition to whales, there are several other fascinating ocean mammals you might want to explore:\n",
      "\n",
      "1. **Dolphins**: Known for their intelligence and playful behavior, dolphins are social animals that often live in pods. The bottlenose dolphin is one of the most well-known species.\n",
      "\n",
      "2. **Porpoises**: Similar to dolphins but generally smaller and with a different snout shape, porpoises are also social creatures and are often found in shallow coastal waters.\n",
      "\n",
      "3. **Seals**: There are many species of seals, including harbor seals and elephant seals. They are known for their ability to adapt to both land and marine environments.\n",
      "\n",
      "4. **Sea Lions**: Often confused with seals, sea lions are distinguished by their external ear flaps and ability to \"walk\" on land using their flippers.\n",
      "\n",
      "5. **Manatees**: Also known as sea cows, manatees are gentle herbivores that inhabit warm coastal waters and rivers. They are known for their slow-moving and friendly nature.\n",
      "\n",
      "6. **Dugongs**: Similar to manatees, dugongs are found in warm coastal waters and are also herbivorous. They have a more streamlined body and a different feeding behavior.\n",
      "\n",
      "7. **Narwhals**: Known for their long, spiral tusks, narwhals are often referred to as the unicorns of the sea. They are found in Arctic waters and are known for their unique adaptations to cold environments.\n",
      "\n",
      "8. **Beluga Whales**: Recognizable by their white color and lack of dorsal fin, belugas are highly vocal and are often found in Arctic and sub-Arctic regions.\n",
      "\n",
      "9. **Orcas (Killer Whales)**: Technically a member of the dolphin family, orcas are apex predators known for their complex social structures and hunting techniques.\n",
      "\n",
      "10. **Sperm Whales**: Known for their deep diving capability and large heads, sperm whales are unique among whales for their social behavior and vocalizations.\n",
      "\n",
      "Each of these mammals has unique adaptations and behaviors that make them interesting subjects for study. Would you like to know more about any specific one?\n"
     ]
    }
   ],
   "source": [
    "output = graph.invoke({'messages': messages})\n",
    "for m in output['messages']:\n",
    "    m.pretty_print()"
   ]
  },
  {
   "cell_type": "markdown",
   "id": "34c33e63-1ef4-412d-bb10-6a1b9e5b35a7",
   "metadata": {},
   "source": [
    "## Reducer\n",
    "\n",
    "A practical challenge when working with messages is managing long-running conversations. \n",
    "\n",
    "Long-running conversations result in high token usage and latency if we are not careful, because we pass a growing list of messages to the model.\n",
    "\n",
    "We have a few ways to address this.\n",
    "\n",
    "First, recall the trick we saw using `RemoveMessage` and the `add_messages` reducer."
   ]
  },
  {
   "cell_type": "code",
   "execution_count": 8,
   "id": "222c6bc5-bb0e-4a43-80f5-c8ec38d99f3a",
   "metadata": {},
   "outputs": [
    {
     "data": {
      "image/png": "[encoded data removed]",
      "text/plain": [
       "<IPython.core.display.Image object>"
      ]
     },
     "metadata": {},
     "output_type": "display_data"
    }
   ],
   "source": [
    "from langchain_core.messages import RemoveMessage\n",
    "\n",
    "# Nodes\n",
    "def filter_messages(state: MessagesState):\n",
    "    # Delete all but the 2 most recent messages\n",
    "    delete_messages = [RemoveMessage(id=m.id) for m in state[\"messages\"][:-2]]\n",
    "    return {\"messages\": delete_messages}\n",
    "\n",
    "def chat_model_node(state: MessagesState):    \n",
    "    return {\"messages\": [llm.invoke(state[\"messages\"])]}\n",
    "\n",
    "# Build graph\n",
    "builder = StateGraph(MessagesState)\n",
    "builder.add_node(\"filter\", filter_messages)\n",
    "builder.add_node(\"chat_model\", chat_model_node)\n",
    "builder.add_edge(START, \"filter\")\n",
    "builder.add_edge(\"filter\", \"chat_model\")\n",
    "builder.add_edge(\"chat_model\", END)\n",
    "graph = builder.compile()\n",
    "\n",
    "# View\n",
    "display(Image(graph.get_graph().draw_mermaid_png()))"
   ]
  },
  {
   "cell_type": "code",
   "execution_count": 9,
   "id": "95a7c2cc-54ce-43e7-9a90-abf37827d709",
   "metadata": {},
   "outputs": [
    {
     "name": "stdout",
     "output_type": "stream",
     "text": [
      "ERROR! Session/line number was not unique in database. History logging moved to new session 12\n",
      "==================================\u001b[1m Ai Message \u001b[0m==================================\n",
      "Name: Bot\n",
      "\n",
      "So you said you were researching ocean mammals?\n",
      "================================\u001b[1m Human Message \u001b[0m=================================\n",
      "Name: Lance\n",
      "\n",
      "Yes, I know about whales. But what others should I learn about?\n",
      "==================================\u001b[1m Ai Message \u001b[0m==================================\n",
      "\n",
      "In addition to whales, there are several other fascinating ocean mammals you might want to learn about:\n",
      "\n",
      "1. **Dolphins**: Known for their intelligence and social behavior, dolphins are part of the cetacean family and are found in oceans worldwide.\n",
      "\n",
      "2. **Porpoises**: Similar to dolphins but generally smaller and with different teeth and snouts, porpoises are also members of the cetacean family.\n",
      "\n",
      "3. **Seals**: These marine mammals are part of the pinniped family and include species like harbor seals and elephant seals. They are known for their adaptability to both land and water.\n",
      "\n",
      "4. **Sea Lions**: Similar to seals but with external ear flaps and more social behavior, sea lions are often seen in large colonies.\n",
      "\n",
      "5. **Manatees**: Also known as sea cows, manatees are gentle herbivores that inhabit warm coastal waters and rivers.\n",
      "\n",
      "6. **Dugongs**: Closely related to manatees, dugongs are found in warm coastal waters and are also herbivores, primarily feeding on seagrass.\n",
      "\n",
      "7. **Narwhals**: Known for their long, spiral tusk, narwhals are unique to Arctic waters and are sometimes called the \"unicorns of the sea.\"\n",
      "\n",
      "8. **Beluga Whales**: These white whales are known for their vocalizations and are often found in Arctic and sub-Arctic regions.\n",
      "\n",
      "9. **Orcas (Killer Whales)**: Despite their name, orcas are actually the largest members of the dolphin family and are known for their complex social structures and hunting techniques.\n",
      "\n",
      "10. **Sperm Whales**: These deep-diving whales are known for their large heads and are capable of diving to great depths in search of squid.\n",
      "\n",
      "Each of these mammals has unique adaptations and behaviors that make them interesting to study. Let me know if you want more detailed information about any specific species!\n"
     ]
    }
   ],
   "source": [
    "# Message list with a preamble\n",
    "messages = [AIMessage(\"Hi.\", name=\"Bot\", id=\"1\")]\n",
    "messages.append(HumanMessage(\"Hi.\", name=\"Lance\", id=\"2\"))\n",
    "messages.append(AIMessage(\"So you said you were researching ocean mammals?\", name=\"Bot\", id=\"3\"))\n",
    "messages.append(HumanMessage(\"Yes, I know about whales. But what others should I learn about?\", name=\"Lance\", id=\"4\"))\n",
    "\n",
    "# Invoke\n",
    "output = graph.invoke({'messages': messages})\n",
    "for m in output['messages']:\n",
    "    m.pretty_print()"
   ]
  },
  {
   "cell_type": "markdown",
   "id": "f506457d-014b-4fee-a684-e5edfb4b8f0d",
   "metadata": {},
   "source": [
    "## Filtering messages\n",
    "\n",
    "If you don't need or want to modify the graph state, you can just filter the messages you pass to the chat model.\n",
    "\n",
    "For example, just pass in a filtered list: `llm.invoke(messages[-1:])` to the model."
   ]
  },
  {
   "cell_type": "code",
   "execution_count": 17,
   "id": "22d0b904-7cd6-486b-8948-105bee3d4683",
   "metadata": {},
   "outputs": [
    {
     "data": {
      "image/png": "[encoded data removed]",
      "text/plain": [
       "<IPython.core.display.Image object>"
      ]
     },
     "metadata": {},
     "output_type": "display_data"
    }
   ],
   "source": [
    "# Node\n",
    "def chat_model_node2(state: MessagesState):\n",
    "    return {\"messages\": [llm.invoke(state[\"messages\"][-1:])]}\n",
    "\n",
    "# Build graph\n",
    "builder = StateGraph(MessagesState)\n",
    "builder.add_node(\"chat_model\", chat_model_node2)\n",
    "builder.add_edge(START, \"chat_model\")\n",
    "builder.add_edge(\"chat_model\", END)\n",
    "graph = builder.compile()\n",
    "\n",
    "# View\n",
    "display(Image(graph.get_graph().draw_mermaid_png()))"
   ]
  },
  {
   "cell_type": "markdown",
   "id": "6f58c6fc-532f-418d-b70a-cfcb3307daf5",
   "metadata": {},
   "source": [
    "Let's take our existing list of messages, append the above LLM response, and append a follow-up question."
   ]
  },
  {
   "cell_type": "code",
   "execution_count": 13,
   "id": "16956015-1dbe-4108-89b5-4209b68b51ca",
   "metadata": {},
   "outputs": [],
   "source": [
    "messages.append(output['messages'][-1])\n",
    "messages.append(HumanMessage(f\"Tell me more about Narwhals!\", name=\"Lance\"))"
   ]
  },
  {
   "cell_type": "code",
   "execution_count": 15,
   "id": "85563415-c085-46a8-a4ac-155df798c54e",
   "metadata": {
    "scrolled": true
   },
   "outputs": [
    {
     "name": "stdout",
     "output_type": "stream",
     "text": [
      "==================================\u001b[1m Ai Message \u001b[0m==================================\n",
      "Name: Bot\n",
      "\n",
      "Hi.\n",
      "================================\u001b[1m Human Message \u001b[0m=================================\n",
      "Name: Lance\n",
      "\n",
      "Hi.\n",
      "==================================\u001b[1m Ai Message \u001b[0m==================================\n",
      "Name: Bot\n",
      "\n",
      "So you said you were researching ocean mammals?\n",
      "================================\u001b[1m Human Message \u001b[0m=================================\n",
      "Name: Lance\n",
      "\n",
      "Yes, I know about whales. But what others should I learn about?\n",
      "==================================\u001b[1m Ai Message \u001b[0m==================================\n",
      "\n",
      "In addition to whales, there are several other fascinating ocean mammals you might want to learn about:\n",
      "\n",
      "1. **Dolphins**: Known for their intelligence and social behavior, dolphins are part of the cetacean family and are found in oceans worldwide.\n",
      "\n",
      "2. **Porpoises**: Similar to dolphins but generally smaller and with different teeth and snouts, porpoises are also members of the cetacean family.\n",
      "\n",
      "3. **Seals**: These marine mammals are part of the pinniped family and include species like harbor seals and elephant seals. They are known for their adaptability to both land and water.\n",
      "\n",
      "4. **Sea Lions**: Similar to seals but with external ear flaps and more social behavior, sea lions are often seen in large colonies.\n",
      "\n",
      "5. **Manatees**: Also known as sea cows, manatees are gentle herbivores that inhabit warm coastal waters and rivers.\n",
      "\n",
      "6. **Dugongs**: Closely related to manatees, dugongs are found in warm coastal waters and are also herbivores, primarily feeding on seagrass.\n",
      "\n",
      "7. **Narwhals**: Known for their long, spiral tusk, narwhals are unique to Arctic waters and are sometimes called the \"unicorns of the sea.\"\n",
      "\n",
      "8. **Beluga Whales**: These white whales are known for their vocalizations and are often found in Arctic and sub-Arctic regions.\n",
      "\n",
      "9. **Orcas (Killer Whales)**: Despite their name, orcas are actually the largest members of the dolphin family and are known for their complex social structures and hunting techniques.\n",
      "\n",
      "10. **Sperm Whales**: These deep-diving whales are known for their large heads and are capable of diving to great depths in search of squid.\n",
      "\n",
      "Each of these mammals has unique adaptations and behaviors that make them interesting to study. Let me know if you want more detailed information about any specific species!\n",
      "================================\u001b[1m Human Message \u001b[0m=================================\n",
      "Name: Lance\n",
      "\n",
      "Tell me more about Narwhals!\n"
     ]
    }
   ],
   "source": [
    "for m in messages:\n",
    "    m.pretty_print()"
   ]
  },
  {
   "cell_type": "code",
   "execution_count": 18,
   "id": "23349705-a059-47b5-9760-d8f64e687393",
   "metadata": {},
   "outputs": [
    {
     "name": "stdout",
     "output_type": "stream",
     "text": [
      "==================================\u001b[1m Ai Message \u001b[0m==================================\n",
      "Name: Bot\n",
      "\n",
      "Hi.\n",
      "================================\u001b[1m Human Message \u001b[0m=================================\n",
      "Name: Lance\n",
      "\n",
      "Hi.\n",
      "==================================\u001b[1m Ai Message \u001b[0m==================================\n",
      "Name: Bot\n",
      "\n",
      "So you said you were researching ocean mammals?\n",
      "================================\u001b[1m Human Message \u001b[0m=================================\n",
      "Name: Lance\n",
      "\n",
      "Yes, I know about whales. But what others should I learn about?\n",
      "==================================\u001b[1m Ai Message \u001b[0m==================================\n",
      "\n",
      "In addition to whales, there are several other fascinating ocean mammals you might want to learn about:\n",
      "\n",
      "1. **Dolphins**: Known for their intelligence and social behavior, dolphins are part of the cetacean family and are found in oceans worldwide.\n",
      "\n",
      "2. **Porpoises**: Similar to dolphins but generally smaller and with different teeth and snouts, porpoises are also members of the cetacean family.\n",
      "\n",
      "3. **Seals**: These marine mammals are part of the pinniped family and include species like harbor seals and elephant seals. They are known for their adaptability to both land and water.\n",
      "\n",
      "4. **Sea Lions**: Similar to seals but with external ear flaps and more social behavior, sea lions are often seen in large colonies.\n",
      "\n",
      "5. **Manatees**: Also known as sea cows, manatees are gentle herbivores that inhabit warm coastal waters and rivers.\n",
      "\n",
      "6. **Dugongs**: Closely related to manatees, dugongs are found in warm coastal waters and are also herbivores, primarily feeding on seagrass.\n",
      "\n",
      "7. **Narwhals**: Known for their long, spiral tusk, narwhals are unique to Arctic waters and are sometimes called the \"unicorns of the sea.\"\n",
      "\n",
      "8. **Beluga Whales**: These white whales are known for their vocalizations and are often found in Arctic and sub-Arctic regions.\n",
      "\n",
      "9. **Orcas (Killer Whales)**: Despite their name, orcas are actually the largest members of the dolphin family and are known for their complex social structures and hunting techniques.\n",
      "\n",
      "10. **Sperm Whales**: These deep-diving whales are known for their large heads and are capable of diving to great depths in search of squid.\n",
      "\n",
      "Each of these mammals has unique adaptations and behaviors that make them interesting to study. Let me know if you want more detailed information about any specific species!\n",
      "================================\u001b[1m Human Message \u001b[0m=================================\n",
      "Name: Lance\n",
      "\n",
      "Tell me more about Narwhals!\n",
      "==================================\u001b[1m Ai Message \u001b[0m==================================\n",
      "\n",
      "Narwhals (Monodon monoceros) are fascinating marine mammals known for their unique tusk, which is actually an elongated tooth. Here are some interesting facts about narwhals:\n",
      "\n",
      "1. **Habitat**: Narwhals primarily inhabit the Arctic waters, especially around Greenland, Canada, and Russia. They are well adapted to cold environments and often found in deep, icy waters.\n",
      "\n",
      "2. **Tusk**: The most distinctive feature of the narwhal is its long, spiral tusk, which can grow up to 10 feet (3 meters) long in males. While often thought to be a horn, the tusk is a tooth that protrudes through the upper lip. Some females also have a tusk, though it is less common.\n",
      "\n",
      "3. **Social Structure**: Narwhals are social animals and typically live in groups called pods, which can range from a few individuals to over 20. They often form strong bonds within their pods.\n",
      "\n",
      "4. **Diet**: Narwhals primarily feed on fish, squid, and shrimp. They are known to dive deep (up to 1,500 meters or about 4,900 feet) to find food, and they can hold their breath for up to 25 minutes while diving.\n",
      "\n",
      "5. **Communication**: Narwhals communicate using a variety of sounds, including clicks, whistles, and other vocalizations. These sounds are important for social interactions and navigation in the dark waters of the Arctic.\n",
      "\n",
      "6. **Reproduction**: Narwhals typically breed in the spring, with a gestation period of about 16 months. Calves are born in the summer and stay with their mothers for about a year.\n",
      "\n",
      "7. **Conservation Status**: Narwhals are currently listed as \"Near Threatened\" by the International Union for Conservation of Nature (IUCN). They face threats from climate change, which affects their ice habitat, as well as hunting and increased shipping traffic in the Arctic.\n",
      "\n",
      "8. **Cultural Significance**: Narwhals have been a part of Arctic indigenous cultures for centuries, often featured in folklore and utilized for their meat, blubber, and tusks.\n",
      "\n",
      "Overall, narwhals are remarkable creatures that play an important role in their ecosystem and have a rich cultural significance in Arctic communities.\n"
     ]
    }
   ],
   "source": [
    "# Invoke, using message filtering\n",
    "output = graph.invoke({'messages': messages})\n",
    "for m in output['messages']:\n",
    "    m.pretty_print()"
   ]
  },
  {
   "cell_type": "markdown",
   "id": "42e1d8d2-e297-4d78-b54c-d12b3c866745",
   "metadata": {},
   "source": [
    "The state has all of the mesages.\n",
    "\n",
    "But, let's look at the LangSmith trace to see that the model invocation only uses the last message:\n",
    "\n",
    "https://smith.langchain.com/public/75aca3ce-ef19-4b92-94be-0178c7a660d9/r"
   ]
  },
  {
   "cell_type": "markdown",
   "id": "fc40d930-3c1f-47fe-8d2a-ce174873353c",
   "metadata": {},
   "source": [
    "## Trim messages\n",
    "\n",
    "Another approach is to [trim messages](https://python.langchain.com/v0.2/docs/how_to/trim_messages/#getting-the-last-max_tokens-tokens), based upon a set number of tokens. \n",
    "\n",
    "This restricts the message history to a specified number of tokens.\n",
    "\n",
    "While filtering only returns a post-hoc subset of the messages between agents, trimming restricts the number of tokens that a chat model can use to respond.\n",
    "\n",
    "See the `trim_messages` below."
   ]
  },
  {
   "cell_type": "code",
   "execution_count": 19,
   "id": "2ff99b81-cf03-4cc2-b44f-44829a73e1fd",
   "metadata": {},
   "outputs": [
    {
     "data": {
      "image/png": "[encoded data removed]",
      "text/plain": [
       "<IPython.core.display.Image object>"
      ]
     },
     "metadata": {},
     "output_type": "display_data"
    }
   ],
   "source": [
    "from langchain_core.messages import trim_messages\n",
    "\n",
    "# Node\n",
    "def chat_model_node(state: MessagesState):\n",
    "    messages = trim_messages(\n",
    "            state[\"messages\"],\n",
    "            max_tokens=100,\n",
    "            strategy=\"last\",\n",
    "            token_counter=ChatOpenAI(model=\"gpt-4o\"),\n",
    "            allow_partial=False,\n",
    "        )\n",
    "    return {\"messages\": [llm.invoke(messages)]}\n",
    "\n",
    "# Build graph\n",
    "builder = StateGraph(MessagesState)\n",
    "builder.add_node(\"chat_model\", chat_model_node)\n",
    "builder.add_edge(START, \"chat_model\")\n",
    "builder.add_edge(\"chat_model\", END)\n",
    "graph = builder.compile()\n",
    "\n",
    "# View\n",
    "display(Image(graph.get_graph().draw_mermaid_png()))"
   ]
  },
  {
   "cell_type": "code",
   "execution_count": 20,
   "id": "24df63ac-da29-4874-b3df-7e390e97cc8a",
   "metadata": {},
   "outputs": [],
   "source": [
    "messages.append(output['messages'][-1])\n",
    "messages.append(HumanMessage(f\"Tell me where Orcas live!\", name=\"Lance\"))"
   ]
  },
  {
   "cell_type": "code",
   "execution_count": 21,
   "id": "6d9d8971-c75c-43ca-a209-eb1d07b2ead0",
   "metadata": {},
   "outputs": [
    {
     "data": {
      "text/plain": [
       "[HumanMessage(content='Tell me where Orcas live!', additional_kwargs={}, response_metadata={}, name='Lance')]"
      ]
     },
     "execution_count": 21,
     "metadata": {},
     "output_type": "execute_result"
    }
   ],
   "source": [
    "# Example of trimming messages\n",
    "trim_messages(\n",
    "            messages,\n",
    "            max_tokens=100,\n",
    "            strategy=\"last\",\n",
    "            token_counter=ChatOpenAI(model=\"gpt-4o\"),\n",
    "            allow_partial=False\n",
    "        )"
   ]
  },
  {
   "cell_type": "code",
   "execution_count": 22,
   "id": "ed70a269-a869-4fa0-a1df-29736a432c51",
   "metadata": {},
   "outputs": [],
   "source": [
    "# Invoke, using message trimming in the chat_model_node \n",
    "messages_out_trim = graph.invoke({'messages': messages})"
   ]
  },
  {
   "cell_type": "markdown",
   "id": "38b3db67-380e-46b5-9a6a-20100ba52008",
   "metadata": {},
   "source": [
    "Let's look at the LangSmith trace to see the model invocation:\n",
    "\n",
    "https://smith.langchain.com/public/b153f7e9-f1a5-4d60-8074-f0d7ab5b42ef/r"
   ]
  }
 ],
 "metadata": {
  "kernelspec": {
   "display_name": "Python 3 (ipykernel)",
   "language": "python",
   "name": "python3"
  },
  "language_info": {
   "codemirror_mode": {
    "name": "ipython",
    "version": 3
   },
   "file_extension": ".py",
   "mimetype": "text/x-python",
   "name": "python",
   "nbconvert_exporter": "python",
   "pygments_lexer": "ipython3",
   "version": "3.9.21"
  }
 },
 "nbformat": 4,
 "nbformat_minor": 5
}
